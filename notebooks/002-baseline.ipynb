{
 "cells": [
  {
   "cell_type": "markdown",
   "metadata": {},
   "source": [
    "# Baseline Model\n",
    "\n",
    "To give any model metrics context, \n",
    "we need a baseline to compare against."
   ]
  },
  {
   "cell_type": "code",
   "execution_count": null,
   "metadata": {},
   "outputs": [],
   "source": [
    "import matplotlib.pyplot as plt\n",
    "import numpy as np\n",
    "import pandas as pd\n",
    "import pickle\n",
    "from seaborn import boxplot\n",
    "from sklearn.compose import ColumnTransformer\n",
    "from sklearn.linear_model import LogisticRegression\n",
    "from sklearn.metrics import roc_auc_score\n",
    "from sklearn.model_selection import GridSearchCV, train_test_split\n",
    "from sklearn.pipeline import Pipeline\n",
    "from sklearn.preprocessing import OneHotEncoder, StandardScaler\n",
    "\n",
    "pd.set_option(\"max_columns\", 100)\n",
    "plt.style.use(\"/Users/miccoo/Desktop/kindred.mplstyle\")\n",
    "kcs = plt.rcParams[\"axes.prop_cycle\"].by_key()[\"color\"]\n",
    "SEED = 42"
   ]
  },
  {
   "cell_type": "markdown",
   "metadata": {},
   "source": [
    "## Load Data"
   ]
  },
  {
   "cell_type": "code",
   "execution_count": null,
   "metadata": {},
   "outputs": [],
   "source": [
    "df = pd.read_excel(\"../data/default of credit card clients.xls\", header=1, index_col=0)\n",
    "print(df.index.is_unique)\n",
    "df.head()"
   ]
  },
  {
   "cell_type": "markdown",
   "metadata": {},
   "source": [
    "## Basic Preprocessing"
   ]
  },
  {
   "cell_type": "code",
   "execution_count": null,
   "metadata": {},
   "outputs": [],
   "source": [
    "df.rename(\n",
    "    columns={\n",
    "        \"default payment next month\": \"DEFAULT\",\n",
    "        \"PAY_0\": \"PAY_1\"\n",
    "    }, \n",
    "    inplace=True\n",
    ")\n",
    "df[\"SEX\"] -= 1\n",
    "df[\"LOG_LIMIT_BAL\"] = np.log(df[\"LIMIT_BAL\"])"
   ]
  },
  {
   "cell_type": "markdown",
   "metadata": {},
   "source": [
    "## Train/Test Split"
   ]
  },
  {
   "cell_type": "code",
   "execution_count": null,
   "metadata": {},
   "outputs": [],
   "source": [
    "X, y = df, df[\"DEFAULT\"]\n",
    "X_train, X_test, y_train, y_test = train_test_split(X, y, test_size=0.2, random_state=SEED)"
   ]
  },
  {
   "cell_type": "markdown",
   "metadata": {},
   "source": [
    "## Model Pipeline\n",
    "\n",
    "Let's build a simple pipeline which uses a logistic regression model with 2 features\n",
    "to predict the target variable (*DEFAULT*).\n",
    "These were found to be two of the most correlated variables in the EDA notebook."
   ]
  },
  {
   "cell_type": "code",
   "execution_count": null,
   "metadata": {},
   "outputs": [],
   "source": [
    "def create_logistic_regression_pipeline(X_train, \n",
    "                                        y_train, \n",
    "                                        numerical_features, \n",
    "                                        categorical_features, \n",
    "                                        param_grid):\n",
    "    \"\"\"\n",
    "    Create a logistic regression pipeline which\n",
    "    performs basic preprocessing for numerical\n",
    "    and categorical features.\n",
    "\n",
    "    :param X_train: Training feature data\n",
    "    :param y_train: Training target data\n",
    "    :param numerical_features: List of numerical features\n",
    "    :param categorical_features: List of categorical features\n",
    "    :param param_grid: Hyperparameter grid to search over\n",
    "    \"\"\"\n",
    "    # one-hot encode categorical variables\n",
    "    categorical_transformer = OneHotEncoder(handle_unknown=\"ignore\", drop=\"first\")\n",
    "    # all features should be on a similar scale for a logistic regression model\n",
    "    numerical_transformer = StandardScaler()\n",
    "    column_preprocessor = ColumnTransformer(\n",
    "        transformers=[\n",
    "            (\"num\", numerical_transformer, numerical_features),\n",
    "            (\"cat\", categorical_transformer, categorical_features)\n",
    "        ]\n",
    "    )\n",
    "    \n",
    "    # combine preprocessing with logistic regression model\n",
    "    clf = Pipeline(\n",
    "        steps=[\n",
    "            (\"column_preprocessor\", column_preprocessor),\n",
    "            (\"classifier\", LogisticRegression(random_state=SEED, solver=\"liblinear\"))\n",
    "        ]\n",
    "    )\n",
    "    \n",
    "    # perform hyperparameter tuning via cross-validation\n",
    "    gs = GridSearchCV(\n",
    "        estimator=clf,\n",
    "        param_grid=param_grid,\n",
    "        scoring=\"roc_auc\",\n",
    "        n_jobs=5,\n",
    "        cv=5\n",
    "    )\n",
    "    gs.fit(X_train, y_train)\n",
    "    \n",
    "    return gs"
   ]
  },
  {
   "cell_type": "code",
   "execution_count": null,
   "metadata": {},
   "outputs": [],
   "source": [
    "numerical_features = [\"LOG_LIMIT_BAL\"]\n",
    "categorical_features = [\"PAY_1\"]\n",
    "\n",
    "param_grid = {\n",
    "    \"classifier__C\": [1e-4, 1e-3, 1e-2, 1e-1, 1],\n",
    "    \"classifier__penalty\": [\"l1\", \"l2\"]\n",
    "}\n",
    "\n",
    "gs = create_logistic_regression_pipeline(\n",
    "    X_train,\n",
    "    y_train,\n",
    "    numerical_features=numerical_features,\n",
    "    categorical_features=categorical_features,\n",
    "    param_grid=param_grid\n",
    ")\n",
    "validation_auc = gs.best_score_\n",
    "test_auc = roc_auc_score(y_test, gs.predict_proba(X_test)[:, 1])\n",
    "\n",
    "print(f\"Validation ROC-AUC score: {round(100*validation_auc, 2)}\")\n",
    "print(f\"Test ROC-AUC score: {round(100*test_auc, 2)}\")\n",
    "print(gs.best_params_)"
   ]
  },
  {
   "cell_type": "markdown",
   "metadata": {},
   "source": [
    "We can check the feature importances of the model."
   ]
  },
  {
   "cell_type": "code",
   "execution_count": null,
   "metadata": {},
   "outputs": [],
   "source": [
    "# get model coefficients\n",
    "pd.DataFrame(\n",
    "    zip(\n",
    "        [\"bias\"] + gs.best_estimator_[\"column_preprocessor\"].get_feature_names_out().tolist(),\n",
    "        gs.best_estimator_[\"classifier\"].intercept_.reshape(-1).tolist()\n",
    "        + gs.best_estimator_[\"classifier\"].coef_.reshape(-1).tolist()\n",
    "    ),\n",
    "    columns=[\"feature\", \"coef_\"])\\\n",
    "    .set_index(\"feature\")\\\n",
    "    .sort_values(\"coef_\")"
   ]
  },
  {
   "cell_type": "markdown",
   "metadata": {},
   "source": [
    "## Model Bias\n",
    "\n",
    "Let's check the residuals.\n",
    "Seems like we are missing some explanatory variables."
   ]
  },
  {
   "cell_type": "code",
   "execution_count": null,
   "metadata": {},
   "outputs": [],
   "source": [
    "y_pred = gs.predict_proba(X_test)[:, 1]\n",
    "\n",
    "test_df = df.loc[X_test.index].copy()\n",
    "# get the residuals/squared deviance\n",
    "test_df[\"RESIDUALS\"] = -2*(y_test*np.log(y_pred) + (1 - y_test)*np.log(1 - y_pred))\n",
    "\n",
    "fig, ax = plt.subplots()\n",
    "ax.hist(test_df[\"RESIDUALS\"], bins=np.arange(0, 1.01, 0.05))\n",
    "plt.show()"
   ]
  },
  {
   "cell_type": "markdown",
   "metadata": {},
   "source": [
    "The residuals are slightly correlated with the predictions, \n",
    "but we'll ignore this for our baseline."
   ]
  },
  {
   "cell_type": "code",
   "execution_count": null,
   "metadata": {},
   "outputs": [],
   "source": [
    "test_df[\"DEFAULT_PRED_PROBA\"] = y_pred\n",
    "test_df[\"BINNED_PRED_DEFAULT\"] = \\\n",
    "    np.array(pd.cut(test_df[\"DEFAULT_PRED_PROBA\"], np.arange(0, 1.01, 0.2), labels=range(1, 6)))\n",
    "\n",
    "fig, ax = plt.subplots(figsize=(20, 8))\n",
    "boxplot(x=\"BINNED_PRED_DEFAULT\", y=\"RESIDUALS\", data=test_df, ax=ax)\n",
    "plt.show()"
   ]
  },
  {
   "cell_type": "code",
   "execution_count": null,
   "metadata": {},
   "outputs": [],
   "source": [
    "test_df[[\"RESIDUALS\", \"DEFAULT_PRED_PROBA\"]].corr()"
   ]
  },
  {
   "cell_type": "markdown",
   "metadata": {},
   "source": [
    "## Save Model"
   ]
  },
  {
   "cell_type": "code",
   "execution_count": null,
   "metadata": {},
   "outputs": [],
   "source": [
    "with open(\"../models/baseline.pkl\", \"wb\") as f:\n",
    "    pickle.dump(gs.best_estimator_, f)"
   ]
  },
  {
   "cell_type": "markdown",
   "metadata": {},
   "source": [
    "# Conclusion\n",
    "\n",
    "* We have a simple baseline result to give future results context\n",
    "* Some issues with the residuals, but doesn't need to be perfect as it's a baseline\n",
    "* Could play with features/different scaling/different categorical encoding"
   ]
  }
 ],
 "metadata": {
  "kernelspec": {
   "display_name": "surrey-workshop",
   "language": "python",
   "name": "surrey-workshop"
  },
  "language_info": {
   "codemirror_mode": {
    "name": "ipython",
    "version": 3
   },
   "file_extension": ".py",
   "mimetype": "text/x-python",
   "name": "python",
   "nbconvert_exporter": "python",
   "pygments_lexer": "ipython3",
   "version": "3.8.10"
  }
 },
 "nbformat": 4,
 "nbformat_minor": 4
}
